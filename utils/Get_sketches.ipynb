{
 "cells": [
  {
   "cell_type": "code",
   "execution_count": 6,
   "id": "335fd7f5",
   "metadata": {},
   "outputs": [],
   "source": [
    "celeba_dir ='../data/clear/'\n",
    "import os\n",
    "from PIL import Image\n",
    "images=os.listdir(celeba_dir)\n",
    "images1=sorted(images)[:50]\n",
    "if(os.path.exists('../data/sketch')==False):\n",
    "    os.mkdir('../data/sketch')"
   ]
  },
  {
   "cell_type": "code",
   "execution_count": 16,
   "id": "475c67d9",
   "metadata": {},
   "outputs": [],
   "source": [
    "def create_sketch(image):\n",
    "\n",
    "        t_lower = 100\n",
    "        t_upper = 200 \n",
    "        aperture_size = 5 \n",
    "        L2Gradient = True \n",
    "        image=np.uint8(image)\n",
    "        edge = cv2.Canny(image, t_lower, t_upper, L2gradient = L2Gradient )\n",
    "\n",
    "        return edge\n",
    "\n",
    "import numpy as np\n",
    "import cv2\n",
    "for _ in  images1:\n",
    "        img_name=celeba_dir+_\n",
    "        image=Image.open(img_name).convert(\"RGB\")\n",
    "        image=np.array(image)\n",
    "        image= cv2.resize(image, (256,256), interpolation=cv2.INTER_LINEAR)\n",
    "        edge = create_sketch(edge)\n",
    "        edge  =np.expand_dims(edge, axis=0)\n",
    "        edge_image  =np.concatenate((edge,edge,edge),axis=0)\n",
    "        edge_image=np.transpose(edge_image,[1,2,0])\n",
    "        edge_image=np.uint8(edge_image)\n",
    "        sketch= Image.fromarray(edge_image)\n",
    "        sketch.save('./sketch/'+_)"
   ]
  }
 ],
 "metadata": {
  "kernelspec": {
   "display_name": "Python 3 (ipykernel)",
   "language": "python",
   "name": "python3"
  },
  "language_info": {
   "codemirror_mode": {
    "name": "ipython",
    "version": 3
   },
   "file_extension": ".py",
   "mimetype": "text/x-python",
   "name": "python",
   "nbconvert_exporter": "python",
   "pygments_lexer": "ipython3",
   "version": "3.9.10"
  }
 },
 "nbformat": 4,
 "nbformat_minor": 5
}
