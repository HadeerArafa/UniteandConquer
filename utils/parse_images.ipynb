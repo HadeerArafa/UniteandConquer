{
 "cells": [
  {
   "cell_type": "code",
   "execution_count": null,
   "metadata": {},
   "outputs": [],
   "source": [
    "!pip install git+https://github.com/FacePerceiver/facer.git@main\n"
   ]
  },
  {
   "cell_type": "code",
   "execution_count": 11,
   "metadata": {},
   "outputs": [
    {
     "name": "stdout",
     "output_type": "stream",
     "text": [
      "(256, 256) 10010.jpg\n",
      "(256, 256) 10028.jpg\n",
      "(256, 256) 1.jpg\n",
      "(256, 256) 10000.jpg\n",
      "(256, 256) 100.jpg\n",
      "(256, 256) 10.jpg\n",
      "(256, 256) 10001.jpg\n",
      "(256, 256) 10014.jpg\n",
      "(256, 256) 10020.jpg\n",
      "(256, 256) 10016.jpg\n",
      "(256, 256) 10021.jpg\n",
      "(256, 256) 10031.jpg\n",
      "(256, 256) 1001.jpg\n",
      "(256, 256) 10039.jpg\n",
      "(256, 256) 10036.jpg\n",
      "(256, 256) 10035.jpg\n",
      "(256, 256) 10034.jpg\n",
      "(256, 256) 10003.jpg\n",
      "(256, 256) 10023.jpg\n",
      "(256, 256) 10002.jpg\n",
      "(256, 256) 10029.jpg\n",
      "(256, 256) 10011.jpg\n",
      "(256, 256) 0.jpg\n",
      "(256, 256) 1003.jpg\n",
      "(256, 256) 10022.jpg\n",
      "(256, 256) 10004.jpg\n",
      "(256, 256) 10037.jpg\n",
      "(256, 256) 10027.jpg\n",
      "(256, 256) 10033.jpg\n",
      "(256, 256) 10019.jpg\n",
      "(256, 256) 10032.jpg\n",
      "(256, 256) 10006.jpg\n",
      "(256, 256) 10009.jpg\n",
      "(256, 256) 10017.jpg\n",
      "(256, 256) 10026.jpg\n",
      "(256, 256) 10025.jpg\n",
      "(256, 256) 10013.jpg\n",
      "(256, 256) 10008.jpg\n",
      "(256, 256) 10007.jpg\n",
      "(256, 256) 10030.jpg\n",
      "(256, 256) 1004.jpg\n",
      "(256, 256) 10012.jpg\n",
      "(256, 256) 10015.jpg\n",
      "(256, 256) 10038.jpg\n",
      "(256, 256) 1000.jpg\n",
      "(256, 256) 10024.jpg\n",
      "(256, 256) 1002.jpg\n",
      "(256, 256) 10005.jpg\n",
      "(256, 256) 10040.jpg\n",
      "(256, 256) 10018.jpg\n"
     ]
    }
   ],
   "source": [
    "import sys\n",
    "import torch\n",
    "import glob\n",
    "sys.path.append('..')\n",
    "import os\n",
    "device = 'cuda' if torch.cuda.is_available() else 'cpu'\n",
    "import cv2\n",
    "import numpy as np\n",
    "import facer\n",
    "from PIL import Image\n",
    "celeba_dir='../data/clear/*'\n",
    "imgs=glob.glob(celeba_dir)\n",
    "for img in imgs:\n",
    "\n",
    "    img_name=img.split('/')[-1]\n",
    "    image = facer.hwc2bchw(facer.read_hwc(img)).to(device=device) \n",
    "    face_detector = facer.face_detector('retinaface/mobilenet', device=device)\n",
    "    try:\n",
    "        with torch.inference_mode():\n",
    "            faces = face_detector(image)\n",
    "\n",
    "        face_parser = facer.face_parser('farl/lapa/448', device=device)\n",
    "        with torch.inference_mode():\n",
    "            faces = face_parser(image, faces)\n",
    "\n",
    "        seg_logits = faces['seg']['logits']\n",
    "        seg_probs = seg_logits.softmax(dim=1)  # nfaces x nclasses x h x w\n",
    "        a,b,c,d=seg_probs.shape\n",
    "        face_img = seg_probs[:,1,:,:].view(1,1,c,d)[0][0].cpu().numpy()\n",
    "        hair_img = seg_probs[:,10,:,:].view(1,1,c,d)[0][0].cpu().numpy()\n",
    "        face_dir='./face/'\n",
    "        hair_dir='./hair/'\n",
    "\n",
    "        if(os.path.exists(face_dir)==False):\n",
    "            os.makedirs(face_dir)\n",
    "\n",
    "        if(os.path.exists(hair_dir)==False):\n",
    "            os.makedirs(hair_dir)\n",
    "\n",
    "        hair_img=np.uint8(hair_img*255.0)\n",
    "        face_img=np.uint8(face_img*255.0)\n",
    "        hair_img= Image.fromarray(hair_img)\n",
    "        hair_img.save('./hair/'+img_name)\n",
    "\n",
    "        face_img= Image.fromarray(face_img)\n",
    "        face_img.save('./face/'+img_name)\n",
    "    except:\n",
    "        pass\n"
   ]
  },
  {
   "cell_type": "code",
   "execution_count": null,
   "metadata": {},
   "outputs": [],
   "source": []
  }
 ],
 "metadata": {
  "interpreter": {
   "hash": "ee6d2826dd09d2da1bb4d40862e73801543d8f23dbad0828f2f90e8f036e741c"
  },
  "kernelspec": {
   "display_name": "Python 3.9.10 ('gfpgan_env')",
   "language": "python",
   "name": "python3"
  },
  "language_info": {
   "codemirror_mode": {
    "name": "ipython",
    "version": 3
   },
   "file_extension": ".py",
   "mimetype": "text/x-python",
   "name": "python",
   "nbconvert_exporter": "python",
   "pygments_lexer": "ipython3",
   "version": "3.9.10"
  },
  "orig_nbformat": 4
 },
 "nbformat": 4,
 "nbformat_minor": 2
}
